{
 "cells": [
  {
   "cell_type": "markdown",
   "metadata": {},
   "source": [
    "# 计算图\n",
    "- 将代码分解成操作子\n",
    "- 将计算表示成一个无环图\n",
    "- 显示构造\n",
    "- 隐示构造\n",
    "\n",
    "# 自动求导的两种模式\n",
    "- 链式法则\n",
    "- 正向累积\n",
    "- 反向累积（反向传递）"
   ]
  }
 ],
 "metadata": {
  "kernelspec": {
   "display_name": "pytorch-env",
   "language": "python",
   "name": "python3"
  },
  "language_info": {
   "name": "python",
   "version": "3.10.16"
  }
 },
 "nbformat": 4,
 "nbformat_minor": 2
}
