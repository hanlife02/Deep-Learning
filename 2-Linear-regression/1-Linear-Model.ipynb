{
 "cells": [
  {
   "cell_type": "markdown",
   "metadata": {},
   "source": [
    "## 房价预测简化模型\n",
    "- 假设1:影响房价的关键因素是卧室个数，卫生间个数，居住面积，记作$x_1 ,x_2 ,x_3$\n",
    "- 假设2:成交价是关键因素的加权和，记作$y = \\omega_1 x_1 + \\omega_2 x_2 + \\omega_3 x_3$\n",
    "\n",
    "权重和偏差的实际值之后再决定\n",
    "\n",
    "## 线性模型\n",
    "- 给定一个n维输入 $\\mathbf{x} = [x_1,x_2,...,x_n]^T$\n",
    "- 线性模型有一个n维权重和一个标量偏差 $\\mathbf{\\omega} = [\\omega_1,\\omega_2,...\\omega_n]^T , b$\n",
    "- 输出是输入的加权和，$y = <\\omega,x> + b$\n",
    "\n",
    "## 衡量预估质量\n",
    "平方损失"
   ]
  }
 ],
 "metadata": {
  "kernelspec": {
   "display_name": "pytorch-env",
   "language": "python",
   "name": "python3"
  },
  "language_info": {
   "name": "python",
   "version": "3.10.16"
  }
 },
 "nbformat": 4,
 "nbformat_minor": 2
}
