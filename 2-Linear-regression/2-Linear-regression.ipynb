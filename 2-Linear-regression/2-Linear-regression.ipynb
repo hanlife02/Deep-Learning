{
 "cells": [
  {
   "cell_type": "code",
   "execution_count": 2,
   "metadata": {},
   "outputs": [],
   "source": [
    "%matplotlib inline\n",
    "import random\n",
    "import torch"
   ]
  },
  {
   "cell_type": "code",
   "execution_count": 3,
   "metadata": {},
   "outputs": [],
   "source": [
    "# 根据带有噪声的线性模型构造一个人造数据集\n",
    "\n",
    "def synthetic_data(w, b, num_examples):\n",
    "    \"\"\"生成 y = Xw + b + 噪声\"\"\"\n",
    "    X = torch.normal(0, 1, (num_examples, len(w)))  # 均值，标准差，样本量，样本长度\n",
    "    y = torch.matmul(X, w) + b  \n",
    "    y += torch.normal(0, 0.01, y.shape) # 添加噪声，均值为0，标准差为0.01，形状与y相同\n",
    "    return X, y.reshape((-1, 1)) # 做成列向量\n",
    "\n",
    "true_w = torch.tensor([2, -3.4])\n",
    "true_b = 4.2\n",
    "features, labels = synthetic_data(true_w, true_b, 1000)"
   ]
  },
  {
   "cell_type": "code",
   "execution_count": null,
   "metadata": {},
   "outputs": [],
   "source": [
    "# features中的每一行包含一个二维数据样本，labels中的每一行包含一维标签(标量)\n",
    "print(features[0], labels[0])  # 打印第一个样本 "
   ]
  },
  {
   "cell_type": "code",
   "execution_count": null,
   "metadata": {},
   "outputs": [],
   "source": []
  }
 ],
 "metadata": {
  "kernelspec": {
   "display_name": "pytorch-env",
   "language": "python",
   "name": "python3"
  },
  "language_info": {
   "codemirror_mode": {
    "name": "ipython",
    "version": 3
   },
   "file_extension": ".py",
   "mimetype": "text/x-python",
   "name": "python",
   "nbconvert_exporter": "python",
   "pygments_lexer": "ipython3",
   "version": "3.10.16"
  }
 },
 "nbformat": 4,
 "nbformat_minor": 2
}
